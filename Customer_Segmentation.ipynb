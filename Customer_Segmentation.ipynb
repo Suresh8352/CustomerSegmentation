{
  "nbformat": 4,
  "nbformat_minor": 0,
  "metadata": {
    "colab": {
      "provenance": [],
      "mount_file_id": "14aCe6Cgxj7IyQFnroZmchmX9FI4xi_yE",
      "authorship_tag": "ABX9TyMDNKZGkSJzBY5y29aHqNVz",
      "include_colab_link": true
    },
    "kernelspec": {
      "name": "python3",
      "display_name": "Python 3"
    },
    "language_info": {
      "name": "python"
    }
  },
  "cells": [
    {
      "cell_type": "markdown",
      "metadata": {
        "id": "view-in-github",
        "colab_type": "text"
      },
      "source": [
        "<a href=\"https://colab.research.google.com/github/Suresh8352/CustomerSegmentation/blob/main/Customer_Segmentation.ipynb\" target=\"_parent\"><img src=\"https://colab.research.google.com/assets/colab-badge.svg\" alt=\"Open In Colab\"/></a>"
      ]
    },
    {
      "cell_type": "markdown",
      "source": [
        "# Customer Segmentation using K-Means Clustering With Python"
      ],
      "metadata": {
        "id": "IGDLadJfbjL4"
      }
    },
    {
      "cell_type": "markdown",
      "source": [
        "Problem Statement : clusters the customers for mall.\n",
        "K-means Clustering is an unsupervised Learning algorithm, which groups the unlabeled dataset into different cluster.Here K defines the no of pre-defined clusters that need to be created in the process.\n",
        "\n",
        "Work_Flow:\n",
        "\n",
        "Customer Data  --> Data pre processing --> Data Analysis --> optimum no of clusters --> K-means Clustering --> Visulising Clusters\n"
      ],
      "metadata": {
        "id": "RNE11jmheY-Y"
      }
    },
    {
      "cell_type": "code",
      "execution_count": null,
      "metadata": {
        "id": "YK_7MGAGa54D"
      },
      "outputs": [],
      "source": [
        "# Import the Dependencies\n",
        "import pandas as pd\n",
        "import numpy as np\n",
        "import matplotlib.pyplot as plt\n",
        "import seaborn as sms\n",
        "from  sklearn.cluster import KMeans\n",
        "\n"
      ]
    },
    {
      "cell_type": "markdown",
      "source": [
        "# Data collection & Analysis"
      ],
      "metadata": {
        "id": "k0SBuLedgu9R"
      }
    },
    {
      "cell_type": "code",
      "source": [
        "#Loading the data from csv file to a pandas DAtaframe\n",
        "cus= pd.read_csv(\"/content/drive/MyDrive/Placement_2024/Projects_Noncore/Custmer_Segmentation/Mall_Customers.csv\")"
      ],
      "metadata": {
        "id": "ivy80ddQdrtJ"
      },
      "execution_count": null,
      "outputs": []
    },
    {
      "cell_type": "code",
      "source": [
        "# first five rows in the datafram\n",
        "cus.head()"
      ],
      "metadata": {
        "colab": {
          "base_uri": "https://localhost:8080/",
          "height": 206
        },
        "id": "URROmxmKd6XN",
        "outputId": "bd3b16c0-7e59-48ea-af0e-36fd99418c88"
      },
      "execution_count": null,
      "outputs": [
        {
          "output_type": "execute_result",
          "data": {
            "text/plain": [
              "   CustomerID  Gender  Age  Annual Income (k$)  Spending Score (1-100)\n",
              "0           1    Male   19                  15                      39\n",
              "1           2    Male   21                  15                      81\n",
              "2           3  Female   20                  16                       6\n",
              "3           4  Female   23                  16                      77\n",
              "4           5  Female   31                  17                      40"
            ],
            "text/html": [
              "\n",
              "\n",
              "  <div id=\"df-aa378a65-2866-4ecf-8f80-6c2b1bb5e06b\">\n",
              "    <div class=\"colab-df-container\">\n",
              "      <div>\n",
              "<style scoped>\n",
              "    .dataframe tbody tr th:only-of-type {\n",
              "        vertical-align: middle;\n",
              "    }\n",
              "\n",
              "    .dataframe tbody tr th {\n",
              "        vertical-align: top;\n",
              "    }\n",
              "\n",
              "    .dataframe thead th {\n",
              "        text-align: right;\n",
              "    }\n",
              "</style>\n",
              "<table border=\"1\" class=\"dataframe\">\n",
              "  <thead>\n",
              "    <tr style=\"text-align: right;\">\n",
              "      <th></th>\n",
              "      <th>CustomerID</th>\n",
              "      <th>Gender</th>\n",
              "      <th>Age</th>\n",
              "      <th>Annual Income (k$)</th>\n",
              "      <th>Spending Score (1-100)</th>\n",
              "    </tr>\n",
              "  </thead>\n",
              "  <tbody>\n",
              "    <tr>\n",
              "      <th>0</th>\n",
              "      <td>1</td>\n",
              "      <td>Male</td>\n",
              "      <td>19</td>\n",
              "      <td>15</td>\n",
              "      <td>39</td>\n",
              "    </tr>\n",
              "    <tr>\n",
              "      <th>1</th>\n",
              "      <td>2</td>\n",
              "      <td>Male</td>\n",
              "      <td>21</td>\n",
              "      <td>15</td>\n",
              "      <td>81</td>\n",
              "    </tr>\n",
              "    <tr>\n",
              "      <th>2</th>\n",
              "      <td>3</td>\n",
              "      <td>Female</td>\n",
              "      <td>20</td>\n",
              "      <td>16</td>\n",
              "      <td>6</td>\n",
              "    </tr>\n",
              "    <tr>\n",
              "      <th>3</th>\n",
              "      <td>4</td>\n",
              "      <td>Female</td>\n",
              "      <td>23</td>\n",
              "      <td>16</td>\n",
              "      <td>77</td>\n",
              "    </tr>\n",
              "    <tr>\n",
              "      <th>4</th>\n",
              "      <td>5</td>\n",
              "      <td>Female</td>\n",
              "      <td>31</td>\n",
              "      <td>17</td>\n",
              "      <td>40</td>\n",
              "    </tr>\n",
              "  </tbody>\n",
              "</table>\n",
              "</div>\n",
              "      <button class=\"colab-df-convert\" onclick=\"convertToInteractive('df-aa378a65-2866-4ecf-8f80-6c2b1bb5e06b')\"\n",
              "              title=\"Convert this dataframe to an interactive table.\"\n",
              "              style=\"display:none;\">\n",
              "\n",
              "  <svg xmlns=\"http://www.w3.org/2000/svg\" height=\"24px\"viewBox=\"0 0 24 24\"\n",
              "       width=\"24px\">\n",
              "    <path d=\"M0 0h24v24H0V0z\" fill=\"none\"/>\n",
              "    <path d=\"M18.56 5.44l.94 2.06.94-2.06 2.06-.94-2.06-.94-.94-2.06-.94 2.06-2.06.94zm-11 1L8.5 8.5l.94-2.06 2.06-.94-2.06-.94L8.5 2.5l-.94 2.06-2.06.94zm10 10l.94 2.06.94-2.06 2.06-.94-2.06-.94-.94-2.06-.94 2.06-2.06.94z\"/><path d=\"M17.41 7.96l-1.37-1.37c-.4-.4-.92-.59-1.43-.59-.52 0-1.04.2-1.43.59L10.3 9.45l-7.72 7.72c-.78.78-.78 2.05 0 2.83L4 21.41c.39.39.9.59 1.41.59.51 0 1.02-.2 1.41-.59l7.78-7.78 2.81-2.81c.8-.78.8-2.07 0-2.86zM5.41 20L4 18.59l7.72-7.72 1.47 1.35L5.41 20z\"/>\n",
              "  </svg>\n",
              "      </button>\n",
              "\n",
              "\n",
              "\n",
              "    <div id=\"df-ea3e9107-73a3-4ab1-896e-673d1776d96b\">\n",
              "      <button class=\"colab-df-quickchart\" onclick=\"quickchart('df-ea3e9107-73a3-4ab1-896e-673d1776d96b')\"\n",
              "              title=\"Suggest charts.\"\n",
              "              style=\"display:none;\">\n",
              "\n",
              "<svg xmlns=\"http://www.w3.org/2000/svg\" height=\"24px\"viewBox=\"0 0 24 24\"\n",
              "     width=\"24px\">\n",
              "    <g>\n",
              "        <path d=\"M19 3H5c-1.1 0-2 .9-2 2v14c0 1.1.9 2 2 2h14c1.1 0 2-.9 2-2V5c0-1.1-.9-2-2-2zM9 17H7v-7h2v7zm4 0h-2V7h2v10zm4 0h-2v-4h2v4z\"/>\n",
              "    </g>\n",
              "</svg>\n",
              "      </button>\n",
              "    </div>\n",
              "\n",
              "<style>\n",
              "  .colab-df-quickchart {\n",
              "    background-color: #E8F0FE;\n",
              "    border: none;\n",
              "    border-radius: 50%;\n",
              "    cursor: pointer;\n",
              "    display: none;\n",
              "    fill: #1967D2;\n",
              "    height: 32px;\n",
              "    padding: 0 0 0 0;\n",
              "    width: 32px;\n",
              "  }\n",
              "\n",
              "  .colab-df-quickchart:hover {\n",
              "    background-color: #E2EBFA;\n",
              "    box-shadow: 0px 1px 2px rgba(60, 64, 67, 0.3), 0px 1px 3px 1px rgba(60, 64, 67, 0.15);\n",
              "    fill: #174EA6;\n",
              "  }\n",
              "\n",
              "  [theme=dark] .colab-df-quickchart {\n",
              "    background-color: #3B4455;\n",
              "    fill: #D2E3FC;\n",
              "  }\n",
              "\n",
              "  [theme=dark] .colab-df-quickchart:hover {\n",
              "    background-color: #434B5C;\n",
              "    box-shadow: 0px 1px 3px 1px rgba(0, 0, 0, 0.15);\n",
              "    filter: drop-shadow(0px 1px 2px rgba(0, 0, 0, 0.3));\n",
              "    fill: #FFFFFF;\n",
              "  }\n",
              "</style>\n",
              "\n",
              "    <script>\n",
              "      async function quickchart(key) {\n",
              "        const containerElement = document.querySelector('#' + key);\n",
              "        const charts = await google.colab.kernel.invokeFunction(\n",
              "            'suggestCharts', [key], {});\n",
              "      }\n",
              "    </script>\n",
              "\n",
              "      <script>\n",
              "\n",
              "function displayQuickchartButton(domScope) {\n",
              "  let quickchartButtonEl =\n",
              "    domScope.querySelector('#df-ea3e9107-73a3-4ab1-896e-673d1776d96b button.colab-df-quickchart');\n",
              "  quickchartButtonEl.style.display =\n",
              "    google.colab.kernel.accessAllowed ? 'block' : 'none';\n",
              "}\n",
              "\n",
              "        displayQuickchartButton(document);\n",
              "      </script>\n",
              "      <style>\n",
              "    .colab-df-container {\n",
              "      display:flex;\n",
              "      flex-wrap:wrap;\n",
              "      gap: 12px;\n",
              "    }\n",
              "\n",
              "    .colab-df-convert {\n",
              "      background-color: #E8F0FE;\n",
              "      border: none;\n",
              "      border-radius: 50%;\n",
              "      cursor: pointer;\n",
              "      display: none;\n",
              "      fill: #1967D2;\n",
              "      height: 32px;\n",
              "      padding: 0 0 0 0;\n",
              "      width: 32px;\n",
              "    }\n",
              "\n",
              "    .colab-df-convert:hover {\n",
              "      background-color: #E2EBFA;\n",
              "      box-shadow: 0px 1px 2px rgba(60, 64, 67, 0.3), 0px 1px 3px 1px rgba(60, 64, 67, 0.15);\n",
              "      fill: #174EA6;\n",
              "    }\n",
              "\n",
              "    [theme=dark] .colab-df-convert {\n",
              "      background-color: #3B4455;\n",
              "      fill: #D2E3FC;\n",
              "    }\n",
              "\n",
              "    [theme=dark] .colab-df-convert:hover {\n",
              "      background-color: #434B5C;\n",
              "      box-shadow: 0px 1px 3px 1px rgba(0, 0, 0, 0.15);\n",
              "      filter: drop-shadow(0px 1px 2px rgba(0, 0, 0, 0.3));\n",
              "      fill: #FFFFFF;\n",
              "    }\n",
              "  </style>\n",
              "\n",
              "      <script>\n",
              "        const buttonEl =\n",
              "          document.querySelector('#df-aa378a65-2866-4ecf-8f80-6c2b1bb5e06b button.colab-df-convert');\n",
              "        buttonEl.style.display =\n",
              "          google.colab.kernel.accessAllowed ? 'block' : 'none';\n",
              "\n",
              "        async function convertToInteractive(key) {\n",
              "          const element = document.querySelector('#df-aa378a65-2866-4ecf-8f80-6c2b1bb5e06b');\n",
              "          const dataTable =\n",
              "            await google.colab.kernel.invokeFunction('convertToInteractive',\n",
              "                                                     [key], {});\n",
              "          if (!dataTable) return;\n",
              "\n",
              "          const docLinkHtml = 'Like what you see? Visit the ' +\n",
              "            '<a target=\"_blank\" href=https://colab.research.google.com/notebooks/data_table.ipynb>data table notebook</a>'\n",
              "            + ' to learn more about interactive tables.';\n",
              "          element.innerHTML = '';\n",
              "          dataTable['output_type'] = 'display_data';\n",
              "          await google.colab.output.renderOutput(dataTable, element);\n",
              "          const docLink = document.createElement('div');\n",
              "          docLink.innerHTML = docLinkHtml;\n",
              "          element.appendChild(docLink);\n",
              "        }\n",
              "      </script>\n",
              "    </div>\n",
              "  </div>\n"
            ]
          },
          "metadata": {},
          "execution_count": 180
        }
      ]
    },
    {
      "cell_type": "code",
      "source": [
        "# Finding No of Rows and columns\n",
        "cus.shape"
      ],
      "metadata": {
        "colab": {
          "base_uri": "https://localhost:8080/"
        },
        "id": "MvNpNdQsht4Y",
        "outputId": "0cf44a11-4508-4f20-f1c6-6fd919da1121"
      },
      "execution_count": null,
      "outputs": [
        {
          "output_type": "execute_result",
          "data": {
            "text/plain": [
              "(200, 5)"
            ]
          },
          "metadata": {},
          "execution_count": 181
        }
      ]
    },
    {
      "cell_type": "code",
      "source": [
        "# Info about custmer data\n",
        "cus.info()"
      ],
      "metadata": {
        "colab": {
          "base_uri": "https://localhost:8080/"
        },
        "id": "XfLRaFdmh1Sb",
        "outputId": "5642b036-8aa2-4116-a066-032954b22f20"
      },
      "execution_count": null,
      "outputs": [
        {
          "output_type": "stream",
          "name": "stdout",
          "text": [
            "<class 'pandas.core.frame.DataFrame'>\n",
            "RangeIndex: 200 entries, 0 to 199\n",
            "Data columns (total 5 columns):\n",
            " #   Column                  Non-Null Count  Dtype \n",
            "---  ------                  --------------  ----- \n",
            " 0   CustomerID              200 non-null    int64 \n",
            " 1   Gender                  200 non-null    object\n",
            " 2   Age                     200 non-null    int64 \n",
            " 3   Annual Income (k$)      200 non-null    int64 \n",
            " 4   Spending Score (1-100)  200 non-null    int64 \n",
            "dtypes: int64(4), object(1)\n",
            "memory usage: 7.9+ KB\n"
          ]
        }
      ]
    },
    {
      "cell_type": "code",
      "source": [
        "# Checking for missing Values\n",
        "cus.isnull().sum()"
      ],
      "metadata": {
        "colab": {
          "base_uri": "https://localhost:8080/"
        },
        "id": "3t72tHo8iCYZ",
        "outputId": "dffe87e1-323b-44f3-ce2f-239fa4cc4ad8"
      },
      "execution_count": null,
      "outputs": [
        {
          "output_type": "execute_result",
          "data": {
            "text/plain": [
              "CustomerID                0\n",
              "Gender                    0\n",
              "Age                       0\n",
              "Annual Income (k$)        0\n",
              "Spending Score (1-100)    0\n",
              "dtype: int64"
            ]
          },
          "metadata": {},
          "execution_count": 183
        }
      ]
    },
    {
      "cell_type": "markdown",
      "source": [
        "we don't have any missing values.\n",
        "Choosing the annual income column and spending score columns"
      ],
      "metadata": {
        "id": "DbqsGzjHiMV3"
      }
    },
    {
      "cell_type": "code",
      "source": [
        "# taking 3rd and 4 th column for the\n",
        "X=cus.iloc[:,[3,4]].values\n",
        "print(X)"
      ],
      "metadata": {
        "colab": {
          "base_uri": "https://localhost:8080/"
        },
        "id": "MUVymLHFiPny",
        "outputId": "ee5d6450-5349-437f-9870-7581bb9317af"
      },
      "execution_count": null,
      "outputs": [
        {
          "output_type": "stream",
          "name": "stdout",
          "text": [
            "[[ 15  39]\n",
            " [ 15  81]\n",
            " [ 16   6]\n",
            " [ 16  77]\n",
            " [ 17  40]\n",
            " [ 17  76]\n",
            " [ 18   6]\n",
            " [ 18  94]\n",
            " [ 19   3]\n",
            " [ 19  72]\n",
            " [ 19  14]\n",
            " [ 19  99]\n",
            " [ 20  15]\n",
            " [ 20  77]\n",
            " [ 20  13]\n",
            " [ 20  79]\n",
            " [ 21  35]\n",
            " [ 21  66]\n",
            " [ 23  29]\n",
            " [ 23  98]\n",
            " [ 24  35]\n",
            " [ 24  73]\n",
            " [ 25   5]\n",
            " [ 25  73]\n",
            " [ 28  14]\n",
            " [ 28  82]\n",
            " [ 28  32]\n",
            " [ 28  61]\n",
            " [ 29  31]\n",
            " [ 29  87]\n",
            " [ 30   4]\n",
            " [ 30  73]\n",
            " [ 33   4]\n",
            " [ 33  92]\n",
            " [ 33  14]\n",
            " [ 33  81]\n",
            " [ 34  17]\n",
            " [ 34  73]\n",
            " [ 37  26]\n",
            " [ 37  75]\n",
            " [ 38  35]\n",
            " [ 38  92]\n",
            " [ 39  36]\n",
            " [ 39  61]\n",
            " [ 39  28]\n",
            " [ 39  65]\n",
            " [ 40  55]\n",
            " [ 40  47]\n",
            " [ 40  42]\n",
            " [ 40  42]\n",
            " [ 42  52]\n",
            " [ 42  60]\n",
            " [ 43  54]\n",
            " [ 43  60]\n",
            " [ 43  45]\n",
            " [ 43  41]\n",
            " [ 44  50]\n",
            " [ 44  46]\n",
            " [ 46  51]\n",
            " [ 46  46]\n",
            " [ 46  56]\n",
            " [ 46  55]\n",
            " [ 47  52]\n",
            " [ 47  59]\n",
            " [ 48  51]\n",
            " [ 48  59]\n",
            " [ 48  50]\n",
            " [ 48  48]\n",
            " [ 48  59]\n",
            " [ 48  47]\n",
            " [ 49  55]\n",
            " [ 49  42]\n",
            " [ 50  49]\n",
            " [ 50  56]\n",
            " [ 54  47]\n",
            " [ 54  54]\n",
            " [ 54  53]\n",
            " [ 54  48]\n",
            " [ 54  52]\n",
            " [ 54  42]\n",
            " [ 54  51]\n",
            " [ 54  55]\n",
            " [ 54  41]\n",
            " [ 54  44]\n",
            " [ 54  57]\n",
            " [ 54  46]\n",
            " [ 57  58]\n",
            " [ 57  55]\n",
            " [ 58  60]\n",
            " [ 58  46]\n",
            " [ 59  55]\n",
            " [ 59  41]\n",
            " [ 60  49]\n",
            " [ 60  40]\n",
            " [ 60  42]\n",
            " [ 60  52]\n",
            " [ 60  47]\n",
            " [ 60  50]\n",
            " [ 61  42]\n",
            " [ 61  49]\n",
            " [ 62  41]\n",
            " [ 62  48]\n",
            " [ 62  59]\n",
            " [ 62  55]\n",
            " [ 62  56]\n",
            " [ 62  42]\n",
            " [ 63  50]\n",
            " [ 63  46]\n",
            " [ 63  43]\n",
            " [ 63  48]\n",
            " [ 63  52]\n",
            " [ 63  54]\n",
            " [ 64  42]\n",
            " [ 64  46]\n",
            " [ 65  48]\n",
            " [ 65  50]\n",
            " [ 65  43]\n",
            " [ 65  59]\n",
            " [ 67  43]\n",
            " [ 67  57]\n",
            " [ 67  56]\n",
            " [ 67  40]\n",
            " [ 69  58]\n",
            " [ 69  91]\n",
            " [ 70  29]\n",
            " [ 70  77]\n",
            " [ 71  35]\n",
            " [ 71  95]\n",
            " [ 71  11]\n",
            " [ 71  75]\n",
            " [ 71   9]\n",
            " [ 71  75]\n",
            " [ 72  34]\n",
            " [ 72  71]\n",
            " [ 73   5]\n",
            " [ 73  88]\n",
            " [ 73   7]\n",
            " [ 73  73]\n",
            " [ 74  10]\n",
            " [ 74  72]\n",
            " [ 75   5]\n",
            " [ 75  93]\n",
            " [ 76  40]\n",
            " [ 76  87]\n",
            " [ 77  12]\n",
            " [ 77  97]\n",
            " [ 77  36]\n",
            " [ 77  74]\n",
            " [ 78  22]\n",
            " [ 78  90]\n",
            " [ 78  17]\n",
            " [ 78  88]\n",
            " [ 78  20]\n",
            " [ 78  76]\n",
            " [ 78  16]\n",
            " [ 78  89]\n",
            " [ 78   1]\n",
            " [ 78  78]\n",
            " [ 78   1]\n",
            " [ 78  73]\n",
            " [ 79  35]\n",
            " [ 79  83]\n",
            " [ 81   5]\n",
            " [ 81  93]\n",
            " [ 85  26]\n",
            " [ 85  75]\n",
            " [ 86  20]\n",
            " [ 86  95]\n",
            " [ 87  27]\n",
            " [ 87  63]\n",
            " [ 87  13]\n",
            " [ 87  75]\n",
            " [ 87  10]\n",
            " [ 87  92]\n",
            " [ 88  13]\n",
            " [ 88  86]\n",
            " [ 88  15]\n",
            " [ 88  69]\n",
            " [ 93  14]\n",
            " [ 93  90]\n",
            " [ 97  32]\n",
            " [ 97  86]\n",
            " [ 98  15]\n",
            " [ 98  88]\n",
            " [ 99  39]\n",
            " [ 99  97]\n",
            " [101  24]\n",
            " [101  68]\n",
            " [103  17]\n",
            " [103  85]\n",
            " [103  23]\n",
            " [103  69]\n",
            " [113   8]\n",
            " [113  91]\n",
            " [120  16]\n",
            " [120  79]\n",
            " [126  28]\n",
            " [126  74]\n",
            " [137  18]\n",
            " [137  83]]\n"
          ]
        }
      ]
    },
    {
      "cell_type": "markdown",
      "source": [
        "# Choosing no of clusters\n",
        "wcss--> within clusters sum of squares is a measure of the variability of the observation within the each clusters.\n",
        "In general, a cluster that has a small sum of squares is more compact than a cluster that has a large sum of squares."
      ],
      "metadata": {
        "id": "wBoDOa_DjLqD"
      }
    },
    {
      "cell_type": "code",
      "source": [
        "# finding wcss values for different no of clusters\n",
        "wcss=[]\n",
        "for i in range(1,11):       # 10 clusters\n",
        "  kmeans=KMeans(n_clusters=i, init='k-means++',n_init=10,random_state=42)\n",
        "  kmeans.fit(X)\n",
        "\n",
        "  wcss.append(kmeans.inertia_)"
      ],
      "metadata": {
        "id": "PQ9S3Gv6jFzr"
      },
      "execution_count": null,
      "outputs": []
    },
    {
      "cell_type": "code",
      "source": [
        "# plot an elbow graph\n",
        "sms.set()\n",
        "plt.plot(range(1,11),wcss,color='green')\n",
        "plt.title(\"The Elbow Point Graph\")\n",
        "plt.xlabel(\"no of Clsuter\")\n",
        "plt.ylabel(\"WCSS\")\n",
        "plt.show()"
      ],
      "metadata": {
        "colab": {
          "base_uri": "https://localhost:8080/",
          "height": 480
        },
        "id": "RTLFjvhonTjR",
        "outputId": "6f9018d1-6472-4054-8c24-4b3eb3099350"
      },
      "execution_count": null,
      "outputs": [
        {
          "output_type": "display_data",
          "data": {
            "text/plain": [
              "<Figure size 640x480 with 1 Axes>"
            ],
            "image/png": "[encoded data removed]"
          },
          "metadata": {}
        }
      ]
    },
    {
      "cell_type": "markdown",
      "source": [
        "Optimum no of clusters =5\n",
        "![Elbow_point_curve.png](data:image/png;base64,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)\n",
        "\n",
        "From this graph at no of is 3 there is more drop and at the  no of clusters is 5 more drop. so 5 is the elbow point from that no significant drop present.\n"
      ],
      "metadata": {
        "id": "Z96e4PE4oN4z"
      }
    },
    {
      "cell_type": "markdown",
      "source": [
        "#Training the K-Means Clsutering Model"
      ],
      "metadata": {
        "id": "yTNs4_gBpCI7"
      }
    },
    {
      "cell_type": "code",
      "source": [
        "kmeans= KMeans(n_clusters=5,init='k-means++',n_init=10,random_state=0)\n",
        "# return the label for the each data based on their cluster\n",
        "Y= kmeans.fit_predict(X) # this will the label the cluster\n",
        "print(Y)"
      ],
      "metadata": {
        "colab": {
          "base_uri": "https://localhost:8080/"
        },
        "id": "me-3kMnrnvPl",
        "outputId": "4fe31e7c-7a5d-432b-e461-6f5da2ddad1e"
      },
      "execution_count": null,
      "outputs": [
        {
          "output_type": "stream",
          "name": "stdout",
          "text": [
            "[4 3 4 3 4 3 4 3 4 3 4 3 4 3 4 3 4 3 4 3 4 3 4 3 4 3 4 3 4 3 4 3 4 3 4 3 4\n",
            " 3 4 3 4 3 4 1 4 3 1 1 1 1 1 1 1 1 1 1 1 1 1 1 1 1 1 1 1 1 1 1 1 1 1 1 1 1\n",
            " 1 1 1 1 1 1 1 1 1 1 1 1 1 1 1 1 1 1 1 1 1 1 1 1 1 1 1 1 1 1 1 1 1 1 1 1 1\n",
            " 1 1 1 1 1 1 1 1 1 1 1 1 2 0 2 1 2 0 2 0 2 1 2 0 2 0 2 0 2 0 2 1 2 0 2 0 2\n",
            " 0 2 0 2 0 2 0 2 0 2 0 2 0 2 0 2 0 2 0 2 0 2 0 2 0 2 0 2 0 2 0 2 0 2 0 2 0\n",
            " 2 0 2 0 2 0 2 0 2 0 2 0 2 0 2]\n"
          ]
        }
      ]
    },
    {
      "cell_type": "markdown",
      "source": [
        "# Visulising all the clustering"
      ],
      "metadata": {
        "id": "ezF0ZM-Gr1Gi"
      }
    },
    {
      "cell_type": "code",
      "source": [
        "# Plotting the all the cluster\n",
        "plt.figure(figsize=(8,8))\n",
        "plt.scatter(X[Y==0,0],X[Y==0,1],s=50,c='green',label=\"Cluster 1\")\n",
        "plt.scatter(X[Y==1,0],X[Y==1,1],s=50,c='blue',label=\"Cluster 2\")\n",
        "plt.scatter(X[Y==2,0],X[Y==2,1],s=50,c='red',label=\"Cluster 3\")\n",
        "plt.scatter(X[Y==3,0],X[Y==3,1],s=50,c='yellow',label=\"Cluster 4\")\n",
        "plt.scatter(X[Y==4,0],X[Y==4,1],s=50,c='black',label=\"Cluster 5\")\n",
        "\n",
        "# plot the centroids\n",
        "plt.scatter(kmeans.cluster_centers_[:,0],kmeans.cluster_centers_[:,1], s=90,c='cyan',label='centroids')\n",
        "plt.title(\"Custmer groups\")\n",
        "plt.xlabel(\"annual Income\")\n",
        "plt.ylabel(\"Spending Score\")\n",
        "plt.show()"
      ],
      "metadata": {
        "colab": {
          "base_uri": "https://localhost:8080/",
          "height": 727
        },
        "id": "9BJ9fA9tsmyo",
        "outputId": "b2cd8038-2751-44d2-c05d-f2dadfe8e3ee"
      },
      "execution_count": null,
      "outputs": [
        {
          "output_type": "display_data",
          "data": {
            "text/plain": [
              "<Figure size 800x800 with 1 Axes>"
            ],
            "image/png": "[encoded data removed]"
          },
          "metadata": {}
        }
      ]
    },
    {
      "cell_type": "markdown",
      "source": [
        "by seeing about scatter graph we can observe that which have less spending score so we have give them so discounts for better spending.\n",
        "\n",
        "# We can analyse for the age (how age factor effect the spending score) and gender also we can do this if we want.\n",
        "Thanks 😄😁😀😀😀😀"
      ],
      "metadata": {
        "id": "0BXdr7ZXzZH1"
      }
    }
  ]
}